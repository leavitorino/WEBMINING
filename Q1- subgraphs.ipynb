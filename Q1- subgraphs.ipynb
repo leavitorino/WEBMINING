{
 "cells": [
  {
   "cell_type": "markdown",
   "id": "10e40e1a-696d-475d-a608-7728670c4fad",
   "metadata": {},
   "source": [
    "# WEB MINING PROJECT"
   ]
  },
  {
   "cell_type": "code",
   "execution_count": 42,
   "id": "ecc452be-0c81-4bae-a5fe-670c03ab294b",
   "metadata": {},
   "outputs": [],
   "source": [
    "%matplotlib inline\n",
    "\n",
    "import networkx as nx\n",
    "from networkx.algorithms import community\n",
    "import pandas as pd\n",
    "import seaborn as sns\n",
    "from scipy import stats\n",
    "import matplotlib.pyplot as plt"
   ]
  },
  {
   "cell_type": "markdown",
   "id": "8e7f4a61-fb76-41cb-9dca-acad294da779",
   "metadata": {},
   "source": [
    "### Importation des données"
   ]
  },
  {
   "cell_type": "code",
   "execution_count": 43,
   "id": "723fff53-ce3b-4399-a8be-421de65eb60f",
   "metadata": {},
   "outputs": [],
   "source": [
    "pathData = r\"C:\\Users\\lea31\\OneDrive\\Documents\\Github clone\\DATASET-20240130\\database\\Everything\\database_formated_for_NetworkX.graphml\"\n",
    "g = nx.read_graphml(pathData)"
   ]
  },
  {
   "cell_type": "markdown",
   "id": "c95322e8-5a8b-4e10-92f0-3b2b72954e67",
   "metadata": {},
   "source": [
    "### Créer 6 subgraphs : 1 par type d'événement"
   ]
  },
  {
   "cell_type": "code",
   "execution_count": 47,
   "id": "e6068825-392c-499e-959c-8279a3ef02bb",
   "metadata": {},
   "outputs": [
    {
     "data": {
      "text/plain": [
       "True"
      ]
     },
     "execution_count": 47,
     "metadata": {},
     "output_type": "execute_result"
    }
   ],
   "source": [
    "g.nodes['n0']['labels'] == ':Event'"
   ]
  },
  {
   "cell_type": "code",
   "execution_count": 82,
   "id": "aa493757-a2fa-4177-a437-89245da04c1d",
   "metadata": {},
   "outputs": [],
   "source": [
    "nodes = []\n",
    "for node in g.nodes :\n",
    "    if g.nodes[node]['labels'] == ':Event':\n",
    "        nodes.append(node)"
   ]
  },
  {
   "cell_type": "code",
   "execution_count": 83,
   "id": "5ef90431-1b3a-4e69-b7b4-8edfdf33f48c",
   "metadata": {},
   "outputs": [
    {
     "data": {
      "text/plain": [
       "{'bombing', 'earthquake', 'flood', 'shooting', 'typhoon', 'wildfire'}"
      ]
     },
     "execution_count": 83,
     "metadata": {},
     "output_type": "execute_result"
    }
   ],
   "source": [
    "liste = []\n",
    "for node in nodes : \n",
    "    liste.append(g.nodes[node][\"eventType\"])\n",
    "set(liste)"
   ]
  },
  {
   "cell_type": "code",
   "execution_count": 84,
   "id": "7cb2cfbc-2a4e-4958-a0f7-9e3b7f3fe6c1",
   "metadata": {},
   "outputs": [],
   "source": [
    "bombing = []\n",
    "earthquake = []\n",
    "flood = []\n",
    "shooting = []\n",
    "typhoon = []\n",
    "wildfire = []\n",
    "\n",
    "for node in nodes :\n",
    "    if g.nodes[node][\"eventType\"] == 'bombing':\n",
    "        bombing.append(node)\n",
    "    if g.nodes[node][\"eventType\"] == 'earthquake':\n",
    "        earthquake.append(node)\n",
    "    if g.nodes[node][\"eventType\"] == 'flood':\n",
    "        flood.append(node)\n",
    "    if g.nodes[node][\"eventType\"] == 'shooting':\n",
    "        shooting.append(node)\n",
    "    if g.nodes[node][\"eventType\"] == 'typhoon':\n",
    "        typhoon.append(node)\n",
    "    if g.nodes[node][\"eventType\"] == 'wildfire':\n",
    "        wildfire.append(node)"
   ]
  },
  {
   "cell_type": "code",
   "execution_count": 85,
   "id": "2f1492cd-e71a-4399-a234-0d5f052a9bb6",
   "metadata": {},
   "outputs": [],
   "source": [
    "bombing_edges = []\n",
    "earthquake_edges = []\n",
    "flood_edges = []\n",
    "shooting_edges = []\n",
    "typhoon_edges = []\n",
    "wildfire_edges = []\n",
    "\n",
    "edges = list(g.edges())\n",
    "\n",
    "for i in range(len(edges)):\n",
    "    for node in bombing :\n",
    "        if str(node) in edges[i] : \n",
    "            bombing_edges.append(edges[i])\n",
    "    for node in earthquake :\n",
    "        if str(node) in edges[i] : \n",
    "            earthquake_edges.append(edges[i])\n",
    "    for node in flood :\n",
    "        if str(node) in edges[i] : \n",
    "            flood_edges.append(edges[i])\n",
    "    for node in shooting :\n",
    "        if str(node) in edges[i] : \n",
    "            shooting_edges.append(edges[i])\n",
    "    for node in typhoon :\n",
    "        if str(node) in edges[i] : \n",
    "            typhoon_edges.append(edges[i])\n",
    "    for node in wildfire :\n",
    "        if str(node) in edges[i] : \n",
    "            wildfire_edges.append(edges[i])   "
   ]
  },
  {
   "cell_type": "code",
   "execution_count": 89,
   "id": "34f9a9d8-26f7-4ef7-b1d8-0428f0d9ff42",
   "metadata": {},
   "outputs": [
    {
     "name": "stdout",
     "output_type": "stream",
     "text": [
      "MultiDiGraph with 5518 nodes and 8427 edges\n"
     ]
    }
   ],
   "source": [
    "graph_bombing_nodes = nx.Graph()\n",
    "graph_bombing_nodes.add_edges_from(bombing_edges)\n",
    "g_bombing = g.subgraph(graph_bombing_nodes.nodes())\n",
    "print(g_bombing)"
   ]
  },
  {
   "cell_type": "code",
   "execution_count": 90,
   "id": "5fb94026-4e97-4788-815e-354524740df8",
   "metadata": {},
   "outputs": [
    {
     "name": "stdout",
     "output_type": "stream",
     "text": [
      "MultiDiGraph with 17843 nodes and 28769 edges\n"
     ]
    }
   ],
   "source": [
    "graph_earthquake_nodes = nx.Graph()\n",
    "graph_earthquake_nodes.add_edges_from(earthquake_edges)\n",
    "g_earthquake = g.subgraph(graph_earthquake_nodes.nodes())\n",
    "print(g_earthquake)"
   ]
  },
  {
   "cell_type": "code",
   "execution_count": 91,
   "id": "6c833082-4f3f-4af2-967d-e79488a4821f",
   "metadata": {},
   "outputs": [
    {
     "name": "stdout",
     "output_type": "stream",
     "text": [
      "MultiDiGraph with 7979 nodes and 14017 edges\n"
     ]
    }
   ],
   "source": [
    "graph_flood_nodes = nx.Graph()\n",
    "graph_flood_nodes.add_edges_from(flood_edges)\n",
    "g_flood = g.subgraph(graph_flood_nodes.nodes())\n",
    "print(g_flood)"
   ]
  },
  {
   "cell_type": "code",
   "execution_count": 92,
   "id": "8b1cc671-c40c-441b-9235-84aaaada3075",
   "metadata": {},
   "outputs": [
    {
     "name": "stdout",
     "output_type": "stream",
     "text": [
      "MultiDiGraph with 10804 nodes and 18345 edges\n"
     ]
    }
   ],
   "source": [
    "graph_shooting_nodes = nx.Graph()\n",
    "graph_shooting_nodes.add_edges_from(shooting_edges)\n",
    "g_shooting = g.subgraph(graph_shooting_nodes.nodes())\n",
    "print(g_shooting)"
   ]
  },
  {
   "cell_type": "code",
   "execution_count": 93,
   "id": "28ceaca4-8e91-4855-9dae-90f4cd992e8d",
   "metadata": {},
   "outputs": [
    {
     "name": "stdout",
     "output_type": "stream",
     "text": [
      "MultiDiGraph with 16023 nodes and 27262 edges\n"
     ]
    }
   ],
   "source": [
    "graph_typhoon_nodes = nx.Graph()\n",
    "graph_typhoon_nodes.add_edges_from(typhoon_edges)\n",
    "g_typhoon = g.subgraph(graph_typhoon_nodes.nodes())\n",
    "print(g_typhoon)"
   ]
  },
  {
   "cell_type": "code",
   "execution_count": 94,
   "id": "48da4e75-967c-411e-928c-8d42b8857faf",
   "metadata": {},
   "outputs": [
    {
     "name": "stdout",
     "output_type": "stream",
     "text": [
      "MultiDiGraph with 9377 nodes and 18671 edges\n"
     ]
    }
   ],
   "source": [
    "graph_wildfire_nodes = nx.Graph()\n",
    "graph_wildfire_nodes.add_edges_from(wildfire_edges)\n",
    "g_wildfire = g.subgraph(graph_wildfire_nodes.nodes())\n",
    "print(g_wildfire)"
   ]
  },
  {
   "cell_type": "code",
   "execution_count": null,
   "id": "01dcec85-f73e-4557-b288-398b482df2f7",
   "metadata": {},
   "outputs": [],
   "source": []
  }
 ],
 "metadata": {
  "kernelspec": {
   "display_name": "Python 3 (ipykernel)",
   "language": "python",
   "name": "python3"
  },
  "language_info": {
   "codemirror_mode": {
    "name": "ipython",
    "version": 3
   },
   "file_extension": ".py",
   "mimetype": "text/x-python",
   "name": "python",
   "nbconvert_exporter": "python",
   "pygments_lexer": "ipython3",
   "version": "3.9.13"
  }
 },
 "nbformat": 4,
 "nbformat_minor": 5
}
