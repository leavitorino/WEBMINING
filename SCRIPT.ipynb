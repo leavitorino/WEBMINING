{
 "cells": [
  {
   "cell_type": "code",
   "execution_count": 2,
   "id": "fa4c8851",
   "metadata": {},
   "outputs": [],
   "source": [
    "%matplotlib inline\n",
    "\n",
    "import networkx as nx\n",
    "from networkx.algorithms import community\n",
    "import pandas as pd\n",
    "import seaborn as sns\n",
    "from scipy import stats\n",
    "import matplotlib.pyplot as plt\n",
    "import numpy as np"
   ]
  },
  {
   "cell_type": "code",
   "execution_count": 9,
   "id": "704f3fb3",
   "metadata": {},
   "outputs": [
    {
     "name": "stdout",
     "output_type": "stream",
     "text": [
      "MultiDiGraph with 109627 nodes and 311654 edges\n"
     ]
    }
   ],
   "source": [
    "pathData = \"DATASET-20240130/database/Everything/database_formated_for_NetworkX.graphml\"\n",
    "g = nx.read_graphml(pathData)\n",
    "print(g)"
   ]
  },
  {
   "cell_type": "code",
   "execution_count": 34,
   "id": "d9556eb9",
   "metadata": {},
   "outputs": [
    {
     "name": "stdout",
     "output_type": "stream",
     "text": [
      "Number of Nodes: 109627\n",
      "Number of Edges: 311654\n",
      "Top 10 Central Users: ['n18', 'n565', 'n570', 'n577', 'n568', 'n562', 'n557', 'n17', 'n579', 'n563']\n"
     ]
    }
   ],
   "source": [
    "num_nodes = len(g.nodes)\n",
    "num_edges = len(g.edges)\n",
    "print(f\"Number of Nodes: {num_nodes}\")\n",
    "print(f\"Number of Edges: {num_edges}\")\n",
    "\n",
    "degree_centrality = nx.degree_centrality(g)\n",
    "central_users = sorted(degree_centrality, key=degree_centrality.get, reverse=True)[:10]\n",
    "print(\"Top 10 Central Users:\", central_users)"
   ]
  },
  {
   "cell_type": "code",
   "execution_count": 42,
   "id": "ff892d50",
   "metadata": {},
   "outputs": [
    {
     "name": "stdout",
     "output_type": "stream",
     "text": [
      "MultiDiGraph with 99161 nodes and 0 edges\n"
     ]
    }
   ],
   "source": [
    "G = nx.MultiDiGraph()\n",
    "\n",
    "# Charger les nœuds à partir du fichier nodes.json\n",
    "with open('DATASET-20240130/database/Nodes/Event.json', 'r') as file:\n",
    "    nodes_data = [json.loads(line)['n'] for line in file]\n",
    "    for node_data in nodes_data:\n",
    "        node_id = node_data['id']\n",
    "        node_labels = node_data['labels']\n",
    "        G.add_node(node_id, labels=node_labels, **node_data['properties'])\n",
    "        \n",
    "with open('DATASET-20240130/database/Nodes/User.json', 'r') as file:\n",
    "    tweet_nodes_data = [json.loads(line)['n'] for line in file]\n",
    "    for tweet_node_data in tweet_nodes_data:\n",
    "        tweet_node_id = tweet_node_data['id']\n",
    "        tweet_node_labels = tweet_node_data['labels']\n",
    "        G.add_node(tweet_node_id, labels=tweet_node_labels, **tweet_node_data['properties'])\n",
    "        \n",
    "with open('DATASET-20240130/database/Nodes/Tweet.json', 'r') as file:\n",
    "    tweet_nodes_data = [json.loads(line)['n'] for line in file]\n",
    "    for tweet_node_data in tweet_nodes_data:\n",
    "        tweet_node_id = tweet_node_data['id']\n",
    "        tweet_node_labels = tweet_node_data['labels']\n",
    "        G.add_node(tweet_node_id, labels=tweet_node_labels, **tweet_node_data['properties'])\n",
    "\n",
    "# Charger les relations à partir du fichier nodes.json\n",
    "\n",
    "with open('DATASET-20240130/database/Relationships/IS_ABOUT.json', 'r') as file:\n",
    "    relations_data = [json.loads(line)['r'] for line in file]\n",
    "    for relation_data in relations_data:\n",
    "        start_node_id = relation_data['start']['id']\n",
    "        end_node_id = relation_data['end']['id']\n",
    "        G.add_edge(start_node_id, end_node_id, **relation_data)\n",
    "\n",
    "with open('DATASET-20240130/database/Relationships/TALKS_ABOUT.json', 'r') as file:\n",
    "    relations_data = [json.loads(line)['r'] for line in file]\n",
    "    for relation_data in relations_data:\n",
    "        start_node_id = relation_data['start']['id']\n",
    "        end_node_id = relation_data['end']['id']\n",
    "        G.add_edge(start_node_id, end_node_id, **relation_data)"
   ]
  },
  {
   "cell_type": "code",
   "execution_count": 50,
   "id": "7f5ceeae",
   "metadata": {},
   "outputs": [
    {
     "name": "stdout",
     "output_type": "stream",
     "text": [
      "MultiDiGraph with 99161 nodes and 104470 edges\n"
     ]
    },
    {
     "name": "stderr",
     "output_type": "stream",
     "text": [
      "\n",
      "KeyboardInterrupt\n",
      "\n"
     ]
    }
   ],
   "source": [
    "print(G)\n",
    "nx.draw_networkx(G)"
   ]
  }
 ],
 "metadata": {
  "kernelspec": {
   "display_name": "Python 3 (ipykernel)",
   "language": "python",
   "name": "python3"
  },
  "language_info": {
   "codemirror_mode": {
    "name": "ipython",
    "version": 3
   },
   "file_extension": ".py",
   "mimetype": "text/x-python",
   "name": "python",
   "nbconvert_exporter": "python",
   "pygments_lexer": "ipython3",
   "version": "3.9.12"
  }
 },
 "nbformat": 4,
 "nbformat_minor": 5
}
